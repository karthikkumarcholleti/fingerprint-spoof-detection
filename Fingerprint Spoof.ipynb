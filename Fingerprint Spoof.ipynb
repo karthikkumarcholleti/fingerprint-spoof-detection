{
 "cells": [
  {
   "cell_type": "code",
   "execution_count": 33,
   "id": "59cf64eb",
   "metadata": {},
   "outputs": [],
   "source": [
    "import matplotlib.pyplot as plt\n",
    "from skimage.io import imread\n",
    "from skimage.feature import hog,local_binary_pattern\n",
    "import glob\n",
    "import numpy as np\n",
    "from sklearn import svm\n",
    "from skimage import feature\n",
    "from sklearn.metrics import classification_report\n",
    "from skimage.color import rgb2gray\n",
    "\n",
    "import os\n",
    "from sklearn.metrics import accuracy_score, precision_score, recall_score, f1_score\n",
    "from sklearn.model_selection import cross_validate\n",
    "\n",
    "\n",
    "from sklearn.tree import DecisionTreeClassifier\n",
    "from sklearn.svm import SVC\n",
    "from sklearn.linear_model import LogisticRegression\n",
    "from sklearn.ensemble import RandomForestClassifier\n",
    "from sklearn.naive_bayes import GaussianNB\n",
    "from sklearn.neighbors import KNeighborsClassifier\n",
    "\n",
    "from sklearn.model_selection import cross_val_score\n",
    "from sklearn.metrics import confusion_matrix"
   ]
  },
  {
   "cell_type": "code",
   "execution_count": 19,
   "id": "7167f6ba",
   "metadata": {},
   "outputs": [],
   "source": [
    "path_to_directory = 'C:/Users/karth/OneDrive/Desktop/UN5550/UN5550 LAB/fingerprint-spoof-detection'\n",
    "\n",
    "# Change the current working directory to the specified path\n",
    "os.chdir(path_to_directory)"
   ]
  },
  {
   "cell_type": "code",
   "execution_count": 45,
   "id": "27de4c9b",
   "metadata": {},
   "outputs": [],
   "source": [
    "# import training data\n",
    "live_train = glob.glob('data/Spoof_data/train_live/live/*.png') #positive\n",
    "spoof_train = glob.glob('data/Spoof_data/train_spoof/Training Biometrika Spoof/spoof/*.png') # negative\n",
    "\n",
    "# import testing data\n",
    "live_test = glob.glob('data/Spoof_data/test_live/live/*.png') # positive\n",
    "spoof_test = glob.glob('data/Spoof_data/test_spoof/Testing Biometrika Spoof/spoof/*.png') # negative"
   ]
  },
  {
   "cell_type": "code",
   "execution_count": 46,
   "id": "4684731b",
   "metadata": {},
   "outputs": [
    {
     "name": "stdout",
     "output_type": "stream",
     "text": [
      "200\n"
     ]
    }
   ],
   "source": [
    "print(len(spoof_test))"
   ]
  },
  {
   "cell_type": "code",
   "execution_count": 47,
   "id": "4b8e1df2",
   "metadata": {},
   "outputs": [
    {
     "data": {
      "text/plain": [
       "['data/Spoof_data/train_spoof/Training Biometrika Spoof/spoof\\\\10_1.png',\n",
       " 'data/Spoof_data/train_spoof/Training Biometrika Spoof/spoof\\\\10_10.png',\n",
       " 'data/Spoof_data/train_spoof/Training Biometrika Spoof/spoof\\\\10_2.png',\n",
       " 'data/Spoof_data/train_spoof/Training Biometrika Spoof/spoof\\\\10_3.png',\n",
       " 'data/Spoof_data/train_spoof/Training Biometrika Spoof/spoof\\\\10_4.png',\n",
       " 'data/Spoof_data/train_spoof/Training Biometrika Spoof/spoof\\\\10_5.png',\n",
       " 'data/Spoof_data/train_spoof/Training Biometrika Spoof/spoof\\\\10_6.png',\n",
       " 'data/Spoof_data/train_spoof/Training Biometrika Spoof/spoof\\\\10_7.png',\n",
       " 'data/Spoof_data/train_spoof/Training Biometrika Spoof/spoof\\\\10_8.png',\n",
       " 'data/Spoof_data/train_spoof/Training Biometrika Spoof/spoof\\\\10_9.png',\n",
       " 'data/Spoof_data/train_spoof/Training Biometrika Spoof/spoof\\\\112_1.png',\n",
       " 'data/Spoof_data/train_spoof/Training Biometrika Spoof/spoof\\\\112_10.png',\n",
       " 'data/Spoof_data/train_spoof/Training Biometrika Spoof/spoof\\\\112_2.png',\n",
       " 'data/Spoof_data/train_spoof/Training Biometrika Spoof/spoof\\\\112_3.png',\n",
       " 'data/Spoof_data/train_spoof/Training Biometrika Spoof/spoof\\\\112_4.png',\n",
       " 'data/Spoof_data/train_spoof/Training Biometrika Spoof/spoof\\\\112_5.png',\n",
       " 'data/Spoof_data/train_spoof/Training Biometrika Spoof/spoof\\\\112_6.png',\n",
       " 'data/Spoof_data/train_spoof/Training Biometrika Spoof/spoof\\\\112_7.png',\n",
       " 'data/Spoof_data/train_spoof/Training Biometrika Spoof/spoof\\\\112_8.png',\n",
       " 'data/Spoof_data/train_spoof/Training Biometrika Spoof/spoof\\\\112_9.png',\n",
       " 'data/Spoof_data/train_spoof/Training Biometrika Spoof/spoof\\\\119_1.png',\n",
       " 'data/Spoof_data/train_spoof/Training Biometrika Spoof/spoof\\\\119_10.png',\n",
       " 'data/Spoof_data/train_spoof/Training Biometrika Spoof/spoof\\\\119_2.png',\n",
       " 'data/Spoof_data/train_spoof/Training Biometrika Spoof/spoof\\\\119_3.png',\n",
       " 'data/Spoof_data/train_spoof/Training Biometrika Spoof/spoof\\\\119_4.png',\n",
       " 'data/Spoof_data/train_spoof/Training Biometrika Spoof/spoof\\\\119_5.png',\n",
       " 'data/Spoof_data/train_spoof/Training Biometrika Spoof/spoof\\\\119_6.png',\n",
       " 'data/Spoof_data/train_spoof/Training Biometrika Spoof/spoof\\\\119_7.png',\n",
       " 'data/Spoof_data/train_spoof/Training Biometrika Spoof/spoof\\\\119_8.png',\n",
       " 'data/Spoof_data/train_spoof/Training Biometrika Spoof/spoof\\\\119_9.png',\n",
       " 'data/Spoof_data/train_spoof/Training Biometrika Spoof/spoof\\\\122_1.png',\n",
       " 'data/Spoof_data/train_spoof/Training Biometrika Spoof/spoof\\\\122_10.png',\n",
       " 'data/Spoof_data/train_spoof/Training Biometrika Spoof/spoof\\\\122_2.png',\n",
       " 'data/Spoof_data/train_spoof/Training Biometrika Spoof/spoof\\\\122_3.png',\n",
       " 'data/Spoof_data/train_spoof/Training Biometrika Spoof/spoof\\\\122_4.png',\n",
       " 'data/Spoof_data/train_spoof/Training Biometrika Spoof/spoof\\\\122_5.png',\n",
       " 'data/Spoof_data/train_spoof/Training Biometrika Spoof/spoof\\\\122_6.png',\n",
       " 'data/Spoof_data/train_spoof/Training Biometrika Spoof/spoof\\\\122_7.png',\n",
       " 'data/Spoof_data/train_spoof/Training Biometrika Spoof/spoof\\\\122_8.png',\n",
       " 'data/Spoof_data/train_spoof/Training Biometrika Spoof/spoof\\\\122_9.png',\n",
       " 'data/Spoof_data/train_spoof/Training Biometrika Spoof/spoof\\\\138_1.png',\n",
       " 'data/Spoof_data/train_spoof/Training Biometrika Spoof/spoof\\\\138_10.png',\n",
       " 'data/Spoof_data/train_spoof/Training Biometrika Spoof/spoof\\\\138_2.png',\n",
       " 'data/Spoof_data/train_spoof/Training Biometrika Spoof/spoof\\\\138_3.png',\n",
       " 'data/Spoof_data/train_spoof/Training Biometrika Spoof/spoof\\\\138_4.png',\n",
       " 'data/Spoof_data/train_spoof/Training Biometrika Spoof/spoof\\\\138_5.png',\n",
       " 'data/Spoof_data/train_spoof/Training Biometrika Spoof/spoof\\\\138_6.png',\n",
       " 'data/Spoof_data/train_spoof/Training Biometrika Spoof/spoof\\\\138_7.png',\n",
       " 'data/Spoof_data/train_spoof/Training Biometrika Spoof/spoof\\\\138_8.png',\n",
       " 'data/Spoof_data/train_spoof/Training Biometrika Spoof/spoof\\\\138_9.png',\n",
       " 'data/Spoof_data/train_spoof/Training Biometrika Spoof/spoof\\\\139_1.png',\n",
       " 'data/Spoof_data/train_spoof/Training Biometrika Spoof/spoof\\\\139_10.png',\n",
       " 'data/Spoof_data/train_spoof/Training Biometrika Spoof/spoof\\\\139_2.png',\n",
       " 'data/Spoof_data/train_spoof/Training Biometrika Spoof/spoof\\\\139_3.png',\n",
       " 'data/Spoof_data/train_spoof/Training Biometrika Spoof/spoof\\\\139_4.png',\n",
       " 'data/Spoof_data/train_spoof/Training Biometrika Spoof/spoof\\\\139_5.png',\n",
       " 'data/Spoof_data/train_spoof/Training Biometrika Spoof/spoof\\\\139_6.png',\n",
       " 'data/Spoof_data/train_spoof/Training Biometrika Spoof/spoof\\\\139_7.png',\n",
       " 'data/Spoof_data/train_spoof/Training Biometrika Spoof/spoof\\\\139_8.png',\n",
       " 'data/Spoof_data/train_spoof/Training Biometrika Spoof/spoof\\\\139_9.png',\n",
       " 'data/Spoof_data/train_spoof/Training Biometrika Spoof/spoof\\\\14_1.png',\n",
       " 'data/Spoof_data/train_spoof/Training Biometrika Spoof/spoof\\\\14_10.png',\n",
       " 'data/Spoof_data/train_spoof/Training Biometrika Spoof/spoof\\\\14_2.png',\n",
       " 'data/Spoof_data/train_spoof/Training Biometrika Spoof/spoof\\\\14_3.png',\n",
       " 'data/Spoof_data/train_spoof/Training Biometrika Spoof/spoof\\\\14_4.png',\n",
       " 'data/Spoof_data/train_spoof/Training Biometrika Spoof/spoof\\\\14_5.png',\n",
       " 'data/Spoof_data/train_spoof/Training Biometrika Spoof/spoof\\\\14_6.png',\n",
       " 'data/Spoof_data/train_spoof/Training Biometrika Spoof/spoof\\\\14_7.png',\n",
       " 'data/Spoof_data/train_spoof/Training Biometrika Spoof/spoof\\\\14_8.png',\n",
       " 'data/Spoof_data/train_spoof/Training Biometrika Spoof/spoof\\\\14_9.png',\n",
       " 'data/Spoof_data/train_spoof/Training Biometrika Spoof/spoof\\\\155_1.png',\n",
       " 'data/Spoof_data/train_spoof/Training Biometrika Spoof/spoof\\\\155_10.png',\n",
       " 'data/Spoof_data/train_spoof/Training Biometrika Spoof/spoof\\\\155_2.png',\n",
       " 'data/Spoof_data/train_spoof/Training Biometrika Spoof/spoof\\\\155_3.png',\n",
       " 'data/Spoof_data/train_spoof/Training Biometrika Spoof/spoof\\\\155_4.png',\n",
       " 'data/Spoof_data/train_spoof/Training Biometrika Spoof/spoof\\\\155_5.png',\n",
       " 'data/Spoof_data/train_spoof/Training Biometrika Spoof/spoof\\\\155_6.png',\n",
       " 'data/Spoof_data/train_spoof/Training Biometrika Spoof/spoof\\\\155_7.png',\n",
       " 'data/Spoof_data/train_spoof/Training Biometrika Spoof/spoof\\\\155_8.png',\n",
       " 'data/Spoof_data/train_spoof/Training Biometrika Spoof/spoof\\\\155_9.png',\n",
       " 'data/Spoof_data/train_spoof/Training Biometrika Spoof/spoof\\\\160_1.png',\n",
       " 'data/Spoof_data/train_spoof/Training Biometrika Spoof/spoof\\\\160_10.png',\n",
       " 'data/Spoof_data/train_spoof/Training Biometrika Spoof/spoof\\\\160_2.png',\n",
       " 'data/Spoof_data/train_spoof/Training Biometrika Spoof/spoof\\\\160_3.png',\n",
       " 'data/Spoof_data/train_spoof/Training Biometrika Spoof/spoof\\\\160_4.png',\n",
       " 'data/Spoof_data/train_spoof/Training Biometrika Spoof/spoof\\\\160_5.png',\n",
       " 'data/Spoof_data/train_spoof/Training Biometrika Spoof/spoof\\\\160_6.png',\n",
       " 'data/Spoof_data/train_spoof/Training Biometrika Spoof/spoof\\\\160_7.png',\n",
       " 'data/Spoof_data/train_spoof/Training Biometrika Spoof/spoof\\\\160_8.png',\n",
       " 'data/Spoof_data/train_spoof/Training Biometrika Spoof/spoof\\\\160_9.png',\n",
       " 'data/Spoof_data/train_spoof/Training Biometrika Spoof/spoof\\\\193_1(1).png',\n",
       " 'data/Spoof_data/train_spoof/Training Biometrika Spoof/spoof\\\\193_1.png',\n",
       " 'data/Spoof_data/train_spoof/Training Biometrika Spoof/spoof\\\\193_10(1).png',\n",
       " 'data/Spoof_data/train_spoof/Training Biometrika Spoof/spoof\\\\193_10.png',\n",
       " 'data/Spoof_data/train_spoof/Training Biometrika Spoof/spoof\\\\193_2(1).png',\n",
       " 'data/Spoof_data/train_spoof/Training Biometrika Spoof/spoof\\\\193_2.png',\n",
       " 'data/Spoof_data/train_spoof/Training Biometrika Spoof/spoof\\\\193_3(1).png',\n",
       " 'data/Spoof_data/train_spoof/Training Biometrika Spoof/spoof\\\\193_3.png',\n",
       " 'data/Spoof_data/train_spoof/Training Biometrika Spoof/spoof\\\\193_4(1).png',\n",
       " 'data/Spoof_data/train_spoof/Training Biometrika Spoof/spoof\\\\193_4.png',\n",
       " 'data/Spoof_data/train_spoof/Training Biometrika Spoof/spoof\\\\193_5(1).png',\n",
       " 'data/Spoof_data/train_spoof/Training Biometrika Spoof/spoof\\\\193_5.png',\n",
       " 'data/Spoof_data/train_spoof/Training Biometrika Spoof/spoof\\\\193_6.png',\n",
       " 'data/Spoof_data/train_spoof/Training Biometrika Spoof/spoof\\\\193_7(1).png',\n",
       " 'data/Spoof_data/train_spoof/Training Biometrika Spoof/spoof\\\\193_7.png',\n",
       " 'data/Spoof_data/train_spoof/Training Biometrika Spoof/spoof\\\\193_8.png',\n",
       " 'data/Spoof_data/train_spoof/Training Biometrika Spoof/spoof\\\\193_9.png',\n",
       " 'data/Spoof_data/train_spoof/Training Biometrika Spoof/spoof\\\\20_1.png',\n",
       " 'data/Spoof_data/train_spoof/Training Biometrika Spoof/spoof\\\\20_10.png',\n",
       " 'data/Spoof_data/train_spoof/Training Biometrika Spoof/spoof\\\\20_2.png',\n",
       " 'data/Spoof_data/train_spoof/Training Biometrika Spoof/spoof\\\\20_3.png',\n",
       " 'data/Spoof_data/train_spoof/Training Biometrika Spoof/spoof\\\\20_4.png',\n",
       " 'data/Spoof_data/train_spoof/Training Biometrika Spoof/spoof\\\\20_5.png',\n",
       " 'data/Spoof_data/train_spoof/Training Biometrika Spoof/spoof\\\\20_6.png',\n",
       " 'data/Spoof_data/train_spoof/Training Biometrika Spoof/spoof\\\\20_7.png',\n",
       " 'data/Spoof_data/train_spoof/Training Biometrika Spoof/spoof\\\\20_8.png',\n",
       " 'data/Spoof_data/train_spoof/Training Biometrika Spoof/spoof\\\\20_9.png',\n",
       " 'data/Spoof_data/train_spoof/Training Biometrika Spoof/spoof\\\\27_1.png',\n",
       " 'data/Spoof_data/train_spoof/Training Biometrika Spoof/spoof\\\\27_10.png',\n",
       " 'data/Spoof_data/train_spoof/Training Biometrika Spoof/spoof\\\\27_2.png',\n",
       " 'data/Spoof_data/train_spoof/Training Biometrika Spoof/spoof\\\\27_3.png',\n",
       " 'data/Spoof_data/train_spoof/Training Biometrika Spoof/spoof\\\\27_4.png',\n",
       " 'data/Spoof_data/train_spoof/Training Biometrika Spoof/spoof\\\\27_5.png',\n",
       " 'data/Spoof_data/train_spoof/Training Biometrika Spoof/spoof\\\\27_6.png',\n",
       " 'data/Spoof_data/train_spoof/Training Biometrika Spoof/spoof\\\\27_7.png',\n",
       " 'data/Spoof_data/train_spoof/Training Biometrika Spoof/spoof\\\\27_8.png',\n",
       " 'data/Spoof_data/train_spoof/Training Biometrika Spoof/spoof\\\\27_9.png',\n",
       " 'data/Spoof_data/train_spoof/Training Biometrika Spoof/spoof\\\\2_1.png',\n",
       " 'data/Spoof_data/train_spoof/Training Biometrika Spoof/spoof\\\\2_10.png',\n",
       " 'data/Spoof_data/train_spoof/Training Biometrika Spoof/spoof\\\\2_2.png',\n",
       " 'data/Spoof_data/train_spoof/Training Biometrika Spoof/spoof\\\\2_3.png',\n",
       " 'data/Spoof_data/train_spoof/Training Biometrika Spoof/spoof\\\\2_4.png',\n",
       " 'data/Spoof_data/train_spoof/Training Biometrika Spoof/spoof\\\\2_5.png',\n",
       " 'data/Spoof_data/train_spoof/Training Biometrika Spoof/spoof\\\\2_6.png',\n",
       " 'data/Spoof_data/train_spoof/Training Biometrika Spoof/spoof\\\\2_7.png',\n",
       " 'data/Spoof_data/train_spoof/Training Biometrika Spoof/spoof\\\\2_8.png',\n",
       " 'data/Spoof_data/train_spoof/Training Biometrika Spoof/spoof\\\\2_9.png',\n",
       " 'data/Spoof_data/train_spoof/Training Biometrika Spoof/spoof\\\\37_1.png',\n",
       " 'data/Spoof_data/train_spoof/Training Biometrika Spoof/spoof\\\\37_10.png',\n",
       " 'data/Spoof_data/train_spoof/Training Biometrika Spoof/spoof\\\\37_2.png',\n",
       " 'data/Spoof_data/train_spoof/Training Biometrika Spoof/spoof\\\\37_3.png',\n",
       " 'data/Spoof_data/train_spoof/Training Biometrika Spoof/spoof\\\\37_4.png',\n",
       " 'data/Spoof_data/train_spoof/Training Biometrika Spoof/spoof\\\\37_5.png',\n",
       " 'data/Spoof_data/train_spoof/Training Biometrika Spoof/spoof\\\\37_6.png',\n",
       " 'data/Spoof_data/train_spoof/Training Biometrika Spoof/spoof\\\\37_7.png',\n",
       " 'data/Spoof_data/train_spoof/Training Biometrika Spoof/spoof\\\\37_8.png',\n",
       " 'data/Spoof_data/train_spoof/Training Biometrika Spoof/spoof\\\\37_9.png',\n",
       " 'data/Spoof_data/train_spoof/Training Biometrika Spoof/spoof\\\\56_1.png',\n",
       " 'data/Spoof_data/train_spoof/Training Biometrika Spoof/spoof\\\\56_10.png',\n",
       " 'data/Spoof_data/train_spoof/Training Biometrika Spoof/spoof\\\\56_2.png',\n",
       " 'data/Spoof_data/train_spoof/Training Biometrika Spoof/spoof\\\\56_3.png',\n",
       " 'data/Spoof_data/train_spoof/Training Biometrika Spoof/spoof\\\\56_4.png',\n",
       " 'data/Spoof_data/train_spoof/Training Biometrika Spoof/spoof\\\\56_5.png',\n",
       " 'data/Spoof_data/train_spoof/Training Biometrika Spoof/spoof\\\\56_6.png',\n",
       " 'data/Spoof_data/train_spoof/Training Biometrika Spoof/spoof\\\\56_7.png',\n",
       " 'data/Spoof_data/train_spoof/Training Biometrika Spoof/spoof\\\\56_8.png',\n",
       " 'data/Spoof_data/train_spoof/Training Biometrika Spoof/spoof\\\\56_9.png',\n",
       " 'data/Spoof_data/train_spoof/Training Biometrika Spoof/spoof\\\\5_1.png',\n",
       " 'data/Spoof_data/train_spoof/Training Biometrika Spoof/spoof\\\\5_10.png',\n",
       " 'data/Spoof_data/train_spoof/Training Biometrika Spoof/spoof\\\\5_2.png',\n",
       " 'data/Spoof_data/train_spoof/Training Biometrika Spoof/spoof\\\\5_3.png',\n",
       " 'data/Spoof_data/train_spoof/Training Biometrika Spoof/spoof\\\\5_4.png',\n",
       " 'data/Spoof_data/train_spoof/Training Biometrika Spoof/spoof\\\\5_5.png',\n",
       " 'data/Spoof_data/train_spoof/Training Biometrika Spoof/spoof\\\\5_6.png',\n",
       " 'data/Spoof_data/train_spoof/Training Biometrika Spoof/spoof\\\\5_7.png',\n",
       " 'data/Spoof_data/train_spoof/Training Biometrika Spoof/spoof\\\\5_8.png',\n",
       " 'data/Spoof_data/train_spoof/Training Biometrika Spoof/spoof\\\\5_9.png',\n",
       " 'data/Spoof_data/train_spoof/Training Biometrika Spoof/spoof\\\\64_1.png',\n",
       " 'data/Spoof_data/train_spoof/Training Biometrika Spoof/spoof\\\\64_10.png',\n",
       " 'data/Spoof_data/train_spoof/Training Biometrika Spoof/spoof\\\\64_2.png',\n",
       " 'data/Spoof_data/train_spoof/Training Biometrika Spoof/spoof\\\\64_3.png',\n",
       " 'data/Spoof_data/train_spoof/Training Biometrika Spoof/spoof\\\\64_4.png',\n",
       " 'data/Spoof_data/train_spoof/Training Biometrika Spoof/spoof\\\\64_5.png',\n",
       " 'data/Spoof_data/train_spoof/Training Biometrika Spoof/spoof\\\\64_6.png',\n",
       " 'data/Spoof_data/train_spoof/Training Biometrika Spoof/spoof\\\\64_7.png',\n",
       " 'data/Spoof_data/train_spoof/Training Biometrika Spoof/spoof\\\\64_8.png',\n",
       " 'data/Spoof_data/train_spoof/Training Biometrika Spoof/spoof\\\\64_9.png',\n",
       " 'data/Spoof_data/train_spoof/Training Biometrika Spoof/spoof\\\\69_1.png',\n",
       " 'data/Spoof_data/train_spoof/Training Biometrika Spoof/spoof\\\\69_10.png',\n",
       " 'data/Spoof_data/train_spoof/Training Biometrika Spoof/spoof\\\\69_2.png',\n",
       " 'data/Spoof_data/train_spoof/Training Biometrika Spoof/spoof\\\\69_3.png',\n",
       " 'data/Spoof_data/train_spoof/Training Biometrika Spoof/spoof\\\\69_4.png',\n",
       " 'data/Spoof_data/train_spoof/Training Biometrika Spoof/spoof\\\\69_5.png',\n",
       " 'data/Spoof_data/train_spoof/Training Biometrika Spoof/spoof\\\\69_6.png',\n",
       " 'data/Spoof_data/train_spoof/Training Biometrika Spoof/spoof\\\\69_7.png',\n",
       " 'data/Spoof_data/train_spoof/Training Biometrika Spoof/spoof\\\\69_8.png',\n",
       " 'data/Spoof_data/train_spoof/Training Biometrika Spoof/spoof\\\\69_9.png',\n",
       " 'data/Spoof_data/train_spoof/Training Biometrika Spoof/spoof\\\\88_1.png',\n",
       " 'data/Spoof_data/train_spoof/Training Biometrika Spoof/spoof\\\\88_10.png',\n",
       " 'data/Spoof_data/train_spoof/Training Biometrika Spoof/spoof\\\\88_2.png',\n",
       " 'data/Spoof_data/train_spoof/Training Biometrika Spoof/spoof\\\\88_3.png',\n",
       " 'data/Spoof_data/train_spoof/Training Biometrika Spoof/spoof\\\\88_4.png',\n",
       " 'data/Spoof_data/train_spoof/Training Biometrika Spoof/spoof\\\\88_5.png',\n",
       " 'data/Spoof_data/train_spoof/Training Biometrika Spoof/spoof\\\\88_6.png',\n",
       " 'data/Spoof_data/train_spoof/Training Biometrika Spoof/spoof\\\\88_7.png',\n",
       " 'data/Spoof_data/train_spoof/Training Biometrika Spoof/spoof\\\\88_8.png',\n",
       " 'data/Spoof_data/train_spoof/Training Biometrika Spoof/spoof\\\\88_9.png',\n",
       " 'data/Spoof_data/train_spoof/Training Biometrika Spoof/spoof\\\\92_1.png',\n",
       " 'data/Spoof_data/train_spoof/Training Biometrika Spoof/spoof\\\\92_10.png',\n",
       " 'data/Spoof_data/train_spoof/Training Biometrika Spoof/spoof\\\\92_2.png',\n",
       " 'data/Spoof_data/train_spoof/Training Biometrika Spoof/spoof\\\\92_3.png',\n",
       " 'data/Spoof_data/train_spoof/Training Biometrika Spoof/spoof\\\\92_4.png',\n",
       " 'data/Spoof_data/train_spoof/Training Biometrika Spoof/spoof\\\\92_5.png',\n",
       " 'data/Spoof_data/train_spoof/Training Biometrika Spoof/spoof\\\\92_6.png',\n",
       " 'data/Spoof_data/train_spoof/Training Biometrika Spoof/spoof\\\\92_7.png',\n",
       " 'data/Spoof_data/train_spoof/Training Biometrika Spoof/spoof\\\\92_8.png',\n",
       " 'data/Spoof_data/train_spoof/Training Biometrika Spoof/spoof\\\\92_9.png']"
      ]
     },
     "execution_count": 47,
     "metadata": {},
     "output_type": "execute_result"
    }
   ],
   "source": [
    "spoof_train"
   ]
  },
  {
   "cell_type": "code",
   "execution_count": 48,
   "id": "bf87b135",
   "metadata": {},
   "outputs": [],
   "source": [
    "# initialize empty lists to append data\n",
    "live_train_images = []\n",
    "spoof_train_images = []\n",
    "live_test_images = []\n",
    "spoof_test_images = []\n",
    "\n",
    "# read images from given path and append to the variavles\n",
    "for path in live_train: live_train_images.append(imread(path))\n",
    "for path in spoof_train: spoof_train_images.append(imread(path))\n",
    "for path in live_test: live_test_images.append(imread(path))\n",
    "for path in spoof_test: spoof_test_images.append(imread(path))"
   ]
  },
  {
   "cell_type": "code",
   "execution_count": 49,
   "id": "5e290618",
   "metadata": {},
   "outputs": [],
   "source": [
    "# convert images to np arrays\n",
    "live_train_images, spoof_train_images = np.asarray(live_train_images), np.asarray(spoof_train_images)\n",
    "live_test_images, spoof_test_images = np.asarray(live_test_images), np.asarray(spoof_test_images)"
   ]
  },
  {
   "cell_type": "code",
   "execution_count": 50,
   "id": "8e7a767b",
   "metadata": {},
   "outputs": [
    {
     "name": "stderr",
     "output_type": "stream",
     "text": [
      "C:\\Users\\karth\\anaconda3\\Lib\\site-packages\\skimage\\feature\\texture.py:353: UserWarning: Applying `local_binary_pattern` to floating-point images may give unexpected results when small numerical differences between adjacent pixels are present. It is recommended to use this function with images of integer dtype.\n",
      "  warnings.warn(\n"
     ]
    }
   ],
   "source": [
    "# change the type of feature you want to use here\n",
    "feature_type = \"lbp\" #hog or lbp\n",
    "\n",
    "# initialize empty lists to append features\n",
    "live_train_features, spoof_train_features = [], []\n",
    "live_test_features, spoof_test_features = [], []\n",
    "\n",
    "if(feature_type == \"hog\"):\n",
    "    \n",
    "    # calculate and store hog features of training data\n",
    "    for live_img, spoof_img in zip(live_train_images, spoof_train_images):\n",
    "        live_train_features.append(hog(live_img, feature_vector = True))\n",
    "        spoof_train_features.append(hog(spoof_img, feature_vector = True))\n",
    "    \n",
    "    # calculate and store hog features of testing data\n",
    "    for live_img, spoof_img in zip(live_test_images, spoof_test_images):\n",
    "        live_test_features.append(hog(live_img, feature_vector = True))\n",
    "        spoof_test_features.append(hog(spoof_img, feature_vector = True))\n",
    "        \n",
    "if(feature_type == \"lbp\"):\n",
    "\n",
    "# parameters copied from scikit docs of lbp\n",
    "    METHOD = 'uniform'\n",
    "    R = 3\n",
    "    P = 8 * R\n",
    "\n",
    "    # calculate and store lbp features of training data\n",
    "    for live_img, spoof_img in zip(live_train_images, spoof_train_images):\n",
    "        live_img = rgb2gray(live_img)\n",
    "        spoof_img = rgb2gray(spoof_img)\n",
    "        live_train_features.append(local_binary_pattern(live_img, P, R, METHOD).flatten())\n",
    "        spoof_train_features.append(local_binary_pattern(spoof_img, P, R, METHOD).flatten())\n",
    "    \n",
    "    # calculate and store lbp features of training data   \n",
    "    for live_img, spoof_img in zip(live_test_images, spoof_test_images):\n",
    "        # convert rgb to gray\n",
    "        live_img = rgb2gray(live_img)\n",
    "        # convert rgb to gray\n",
    "        spoof_img = rgb2gray(spoof_img)\n",
    "        live_test_features.append(local_binary_pattern(live_img, P, R, METHOD).flatten())\n",
    "        spoof_test_features.append(local_binary_pattern(spoof_img, P, R, METHOD).flatten())"
   ]
  },
  {
   "cell_type": "code",
   "execution_count": 51,
   "id": "74ab7abf",
   "metadata": {},
   "outputs": [],
   "source": [
    "# define labels 1 for live and 0 for spoof\n",
    "# i.e. create a list of 200 1's and 200 0's \n",
    "labels_train = [[1]]*len(live_train_features) + [[0]]*len(spoof_train_features)\n",
    "\n",
    "# merge both positive and negative training data\n",
    "full_train = live_train_features + spoof_train_features\n",
    "\n",
    "# assign labels for all test data, 1 for positive, 0 for negative\n",
    "labels_test = [[1]]*len(live_test_features) + [[0]]*len(spoof_test_features)\n",
    "\n",
    "# merge both positive and negative training data\n",
    "full_test = live_test_features + spoof_test_features"
   ]
  },
  {
   "cell_type": "code",
   "execution_count": 52,
   "id": "4f1147ff",
   "metadata": {},
   "outputs": [
    {
     "data": {
      "text/plain": [
       "400"
      ]
     },
     "execution_count": 52,
     "metadata": {},
     "output_type": "execute_result"
    }
   ],
   "source": [
    "len(labels_train)"
   ]
  },
  {
   "cell_type": "code",
   "execution_count": 53,
   "id": "5b726460",
   "metadata": {},
   "outputs": [
    {
     "name": "stdout",
     "output_type": "stream",
     "text": [
      "207\n"
     ]
    }
   ],
   "source": [
    "print(len(spoof_train))"
   ]
  },
  {
   "cell_type": "code",
   "execution_count": 54,
   "id": "181c5c7e",
   "metadata": {},
   "outputs": [],
   "source": [
    "features_train = np.array(full_train)\n",
    "features_test = np.array(full_test)\n",
    "\n",
    "# stack features and labels together\n",
    "data_frame_train = np.hstack((features_train,labels_train))\n",
    "\n",
    "# shuffle train data\n",
    "np.random.shuffle(data_frame_train)"
   ]
  },
  {
   "cell_type": "code",
   "execution_count": 55,
   "id": "7e240729",
   "metadata": {},
   "outputs": [],
   "source": [
    "# split features and labels of train data\n",
    "x_train = data_frame_train[:len(data_frame_train),:-1]\n",
    "y_train = data_frame_train[:len(data_frame_train),-1]\n",
    "\n",
    "# ready test data and labels\n",
    "x_test = features_test\n",
    "y_test = labels_test"
   ]
  },
  {
   "cell_type": "code",
   "execution_count": 56,
   "id": "a70428c1",
   "metadata": {},
   "outputs": [
    {
     "name": "stdout",
     "output_type": "stream",
     "text": [
      "              precision    recall  f1-score   support\n",
      "\n",
      "           0       0.00      0.00      0.00       200\n",
      "           1       0.48      0.91      0.63       200\n",
      "\n",
      "    accuracy                           0.46       400\n",
      "   macro avg       0.24      0.46      0.31       400\n",
      "weighted avg       0.24      0.46      0.31       400\n",
      "\n"
     ]
    }
   ],
   "source": [
    "dt = DecisionTreeClassifier()\n",
    "\n",
    "dt.fit(x_train, y_train)\n",
    "\n",
    "# Make predictions on the testing data\n",
    "y_dt = dt.predict(x_test)\n",
    "\n",
    "print(classification_report(y_test, y_dt))"
   ]
  },
  {
   "cell_type": "code",
   "execution_count": 57,
   "id": "6a9e87c9",
   "metadata": {},
   "outputs": [
    {
     "name": "stdout",
     "output_type": "stream",
     "text": [
      "              precision    recall  f1-score   support\n",
      "\n",
      "           0       0.93      0.98      0.95       200\n",
      "           1       0.98      0.93      0.95       200\n",
      "\n",
      "    accuracy                           0.95       400\n",
      "   macro avg       0.95      0.95      0.95       400\n",
      "weighted avg       0.95      0.95      0.95       400\n",
      "\n"
     ]
    }
   ],
   "source": [
    "svm_classifier = SVC(kernel='linear')\n",
    "\n",
    "# Train the classifier on the training data\n",
    "svm_classifier.fit(x_train, y_train)\n",
    "\n",
    "# Make predictions on the testing data\n",
    "y_svm = svm_classifier.predict(x_test)\n",
    "\n",
    "print(classification_report(y_test, y_svm))"
   ]
  },
  {
   "cell_type": "code",
   "execution_count": 58,
   "id": "4d552b58",
   "metadata": {},
   "outputs": [
    {
     "name": "stdout",
     "output_type": "stream",
     "text": [
      "              precision    recall  f1-score   support\n",
      "\n",
      "           0       0.92      0.98      0.95       200\n",
      "           1       0.98      0.92      0.95       200\n",
      "\n",
      "    accuracy                           0.95       400\n",
      "   macro avg       0.95      0.95      0.95       400\n",
      "weighted avg       0.95      0.95      0.95       400\n",
      "\n"
     ]
    }
   ],
   "source": [
    "logistic_regression = LogisticRegression(max_iter=1000)\n",
    "\n",
    "# Train the classifier on the training data\n",
    "logistic_regression.fit(x_train, y_train)\n",
    "\n",
    "# Make predictions on the testing data\n",
    "y_lr = logistic_regression.predict(x_test)\n",
    "\n",
    "print(classification_report(y_test, y_lr))"
   ]
  },
  {
   "cell_type": "code",
   "execution_count": 59,
   "id": "61adf985",
   "metadata": {},
   "outputs": [
    {
     "name": "stdout",
     "output_type": "stream",
     "text": [
      "              precision    recall  f1-score   support\n",
      "\n",
      "           0       0.89      0.85      0.87       200\n",
      "           1       0.86      0.90      0.88       200\n",
      "\n",
      "    accuracy                           0.87       400\n",
      "   macro avg       0.87      0.87      0.87       400\n",
      "weighted avg       0.87      0.87      0.87       400\n",
      "\n"
     ]
    }
   ],
   "source": [
    "random_forest_classifier = RandomForestClassifier(n_estimators=100, random_state=42)\n",
    "\n",
    "# Train the classifier on the training data\n",
    "random_forest_classifier.fit(x_train, y_train)\n",
    "\n",
    "# Make predictions on the testing data\n",
    "y_rf = random_forest_classifier.predict(x_test)\n",
    "\n",
    "print(classification_report(y_test, y_rf))"
   ]
  },
  {
   "cell_type": "code",
   "execution_count": 60,
   "id": "5b954995",
   "metadata": {},
   "outputs": [
    {
     "name": "stdout",
     "output_type": "stream",
     "text": [
      "              precision    recall  f1-score   support\n",
      "\n",
      "           0       0.00      0.00      0.00       200\n",
      "           1       0.49      0.98      0.66       200\n",
      "\n",
      "    accuracy                           0.49       400\n",
      "   macro avg       0.25      0.49      0.33       400\n",
      "weighted avg       0.25      0.49      0.33       400\n",
      "\n"
     ]
    }
   ],
   "source": [
    "naive_bayes_classifier = GaussianNB()\n",
    "\n",
    "# Train the classifier on the training data\n",
    "naive_bayes_classifier.fit(x_train, y_train)\n",
    "\n",
    "# Make predictions on the testing data\n",
    "y_nb = naive_bayes_classifier.predict(x_test)\n",
    "\n",
    "print(classification_report(y_test, y_nb))"
   ]
  },
  {
   "cell_type": "code",
   "execution_count": 61,
   "id": "fdd2c57e",
   "metadata": {},
   "outputs": [
    {
     "name": "stdout",
     "output_type": "stream",
     "text": [
      "              precision    recall  f1-score   support\n",
      "\n",
      "           0       1.00      0.14      0.25       200\n",
      "           1       0.54      1.00      0.70       200\n",
      "\n",
      "    accuracy                           0.57       400\n",
      "   macro avg       0.77      0.57      0.48       400\n",
      "weighted avg       0.77      0.57      0.48       400\n",
      "\n"
     ]
    }
   ],
   "source": [
    "knn_classifier = KNeighborsClassifier(n_neighbors=5)\n",
    "\n",
    "# Train the classifier on the training data\n",
    "knn_classifier.fit(x_train, y_train)\n",
    "\n",
    "# Make predictions on the testing data\n",
    "y_knn = knn_classifier.predict(x_test)\n",
    "\n",
    "print(classification_report(y_test, y_knn))"
   ]
  },
  {
   "cell_type": "code",
   "execution_count": 62,
   "id": "24a71356",
   "metadata": {},
   "outputs": [],
   "source": [
    "results = {}\n",
    "scores_dt = cross_validate(dt, x_test, y_test, cv = 5, scoring = ['accuracy', 'precision', 'recall', 'f1'])\n",
    "\n",
    "results[0] = {\n",
    "        'Model': 'Decision Tree',\n",
    "        'Accuracy': scores_dt['test_accuracy'].mean(),\n",
    "        'Precision': scores_dt['test_precision'].mean(),\n",
    "        'Recall': scores_dt['test_recall'].mean(),\n",
    "        'F1 Score': scores_dt['test_f1'].mean()\n",
    "    }\n",
    "\n",
    "#print(results)\n"
   ]
  },
  {
   "cell_type": "code",
   "execution_count": 63,
   "id": "e9e3b751",
   "metadata": {},
   "outputs": [
    {
     "name": "stderr",
     "output_type": "stream",
     "text": [
      "C:\\Users\\karth\\anaconda3\\Lib\\site-packages\\sklearn\\utils\\validation.py:1184: DataConversionWarning: A column-vector y was passed when a 1d array was expected. Please change the shape of y to (n_samples, ), for example using ravel().\n",
      "  y = column_or_1d(y, warn=True)\n",
      "C:\\Users\\karth\\anaconda3\\Lib\\site-packages\\sklearn\\utils\\validation.py:1184: DataConversionWarning: A column-vector y was passed when a 1d array was expected. Please change the shape of y to (n_samples, ), for example using ravel().\n",
      "  y = column_or_1d(y, warn=True)\n",
      "C:\\Users\\karth\\anaconda3\\Lib\\site-packages\\sklearn\\utils\\validation.py:1184: DataConversionWarning: A column-vector y was passed when a 1d array was expected. Please change the shape of y to (n_samples, ), for example using ravel().\n",
      "  y = column_or_1d(y, warn=True)\n",
      "C:\\Users\\karth\\anaconda3\\Lib\\site-packages\\sklearn\\utils\\validation.py:1184: DataConversionWarning: A column-vector y was passed when a 1d array was expected. Please change the shape of y to (n_samples, ), for example using ravel().\n",
      "  y = column_or_1d(y, warn=True)\n",
      "C:\\Users\\karth\\anaconda3\\Lib\\site-packages\\sklearn\\utils\\validation.py:1184: DataConversionWarning: A column-vector y was passed when a 1d array was expected. Please change the shape of y to (n_samples, ), for example using ravel().\n",
      "  y = column_or_1d(y, warn=True)\n"
     ]
    }
   ],
   "source": [
    "scores_svm = cross_validate(svm_classifier, x_test, y_test, cv=5, scoring= ['accuracy', 'precision', 'recall', 'f1'])\n",
    "\n",
    "results[1] = {\n",
    "        'Model': 'SVM',\n",
    "        'Accuracy': scores_svm['test_accuracy'].mean(),\n",
    "        'Precision': scores_svm['test_precision'].mean(),\n",
    "        'Recall': scores_svm['test_recall'].mean(),\n",
    "        'F1 Score': scores_svm['test_f1'].mean()\n",
    "    }\n",
    "\n",
    "#print()results"
   ]
  },
  {
   "cell_type": "code",
   "execution_count": 64,
   "id": "3a8a4472",
   "metadata": {},
   "outputs": [
    {
     "name": "stderr",
     "output_type": "stream",
     "text": [
      "C:\\Users\\karth\\anaconda3\\Lib\\site-packages\\sklearn\\utils\\validation.py:1184: DataConversionWarning: A column-vector y was passed when a 1d array was expected. Please change the shape of y to (n_samples, ), for example using ravel().\n",
      "  y = column_or_1d(y, warn=True)\n",
      "C:\\Users\\karth\\anaconda3\\Lib\\site-packages\\sklearn\\utils\\validation.py:1184: DataConversionWarning: A column-vector y was passed when a 1d array was expected. Please change the shape of y to (n_samples, ), for example using ravel().\n",
      "  y = column_or_1d(y, warn=True)\n",
      "C:\\Users\\karth\\anaconda3\\Lib\\site-packages\\sklearn\\utils\\validation.py:1184: DataConversionWarning: A column-vector y was passed when a 1d array was expected. Please change the shape of y to (n_samples, ), for example using ravel().\n",
      "  y = column_or_1d(y, warn=True)\n",
      "C:\\Users\\karth\\anaconda3\\Lib\\site-packages\\sklearn\\utils\\validation.py:1184: DataConversionWarning: A column-vector y was passed when a 1d array was expected. Please change the shape of y to (n_samples, ), for example using ravel().\n",
      "  y = column_or_1d(y, warn=True)\n",
      "C:\\Users\\karth\\anaconda3\\Lib\\site-packages\\sklearn\\utils\\validation.py:1184: DataConversionWarning: A column-vector y was passed when a 1d array was expected. Please change the shape of y to (n_samples, ), for example using ravel().\n",
      "  y = column_or_1d(y, warn=True)\n"
     ]
    }
   ],
   "source": [
    "scores_lr = cross_validate(logistic_regression, x_test, y_test, cv=5, scoring = ['accuracy', 'precision', 'recall', 'f1'])\n",
    "\n",
    "results[2] = {\n",
    "        'Model': 'Logistic Regression',\n",
    "        'Accuracy': scores_lr['test_accuracy'].mean(),\n",
    "        'Precision': scores_lr['test_precision'].mean(),\n",
    "        'Recall': scores_lr['test_recall'].mean(),\n",
    "        'F1 Score': scores_lr['test_f1'].mean()\n",
    "    }\n",
    "\n",
    "#print(results)"
   ]
  },
  {
   "cell_type": "code",
   "execution_count": 65,
   "id": "4c011c68",
   "metadata": {},
   "outputs": [
    {
     "name": "stderr",
     "output_type": "stream",
     "text": [
      "C:\\Users\\karth\\anaconda3\\Lib\\site-packages\\sklearn\\base.py:1151: DataConversionWarning: A column-vector y was passed when a 1d array was expected. Please change the shape of y to (n_samples,), for example using ravel().\n",
      "  return fit_method(estimator, *args, **kwargs)\n",
      "C:\\Users\\karth\\anaconda3\\Lib\\site-packages\\sklearn\\base.py:1151: DataConversionWarning: A column-vector y was passed when a 1d array was expected. Please change the shape of y to (n_samples,), for example using ravel().\n",
      "  return fit_method(estimator, *args, **kwargs)\n",
      "C:\\Users\\karth\\anaconda3\\Lib\\site-packages\\sklearn\\base.py:1151: DataConversionWarning: A column-vector y was passed when a 1d array was expected. Please change the shape of y to (n_samples,), for example using ravel().\n",
      "  return fit_method(estimator, *args, **kwargs)\n",
      "C:\\Users\\karth\\anaconda3\\Lib\\site-packages\\sklearn\\base.py:1151: DataConversionWarning: A column-vector y was passed when a 1d array was expected. Please change the shape of y to (n_samples,), for example using ravel().\n",
      "  return fit_method(estimator, *args, **kwargs)\n",
      "C:\\Users\\karth\\anaconda3\\Lib\\site-packages\\sklearn\\base.py:1151: DataConversionWarning: A column-vector y was passed when a 1d array was expected. Please change the shape of y to (n_samples,), for example using ravel().\n",
      "  return fit_method(estimator, *args, **kwargs)\n"
     ]
    }
   ],
   "source": [
    "scores_rf = cross_validate(random_forest_classifier, x_test, y_test, cv = 5, scoring = ['accuracy', 'precision', 'recall', 'f1'])\n",
    "\n",
    "results[3] = {\n",
    "        'Model': 'Random Forest',\n",
    "        'Accuracy': scores_rf['test_accuracy'].mean(),\n",
    "        'Precision': scores_rf['test_precision'].mean(),\n",
    "        'Recall': scores_rf['test_recall'].mean(),\n",
    "        'F1 Score': scores_rf['test_f1'].mean()\n",
    "    }\n",
    "\n",
    "#print(results)"
   ]
  },
  {
   "cell_type": "code",
   "execution_count": 66,
   "id": "ef26ed9a",
   "metadata": {},
   "outputs": [
    {
     "name": "stderr",
     "output_type": "stream",
     "text": [
      "C:\\Users\\karth\\anaconda3\\Lib\\site-packages\\sklearn\\utils\\validation.py:1184: DataConversionWarning: A column-vector y was passed when a 1d array was expected. Please change the shape of y to (n_samples, ), for example using ravel().\n",
      "  y = column_or_1d(y, warn=True)\n",
      "C:\\Users\\karth\\anaconda3\\Lib\\site-packages\\sklearn\\utils\\validation.py:1184: DataConversionWarning: A column-vector y was passed when a 1d array was expected. Please change the shape of y to (n_samples, ), for example using ravel().\n",
      "  y = column_or_1d(y, warn=True)\n",
      "C:\\Users\\karth\\anaconda3\\Lib\\site-packages\\sklearn\\utils\\validation.py:1184: DataConversionWarning: A column-vector y was passed when a 1d array was expected. Please change the shape of y to (n_samples, ), for example using ravel().\n",
      "  y = column_or_1d(y, warn=True)\n",
      "C:\\Users\\karth\\anaconda3\\Lib\\site-packages\\sklearn\\utils\\validation.py:1184: DataConversionWarning: A column-vector y was passed when a 1d array was expected. Please change the shape of y to (n_samples, ), for example using ravel().\n",
      "  y = column_or_1d(y, warn=True)\n",
      "C:\\Users\\karth\\anaconda3\\Lib\\site-packages\\sklearn\\utils\\validation.py:1184: DataConversionWarning: A column-vector y was passed when a 1d array was expected. Please change the shape of y to (n_samples, ), for example using ravel().\n",
      "  y = column_or_1d(y, warn=True)\n"
     ]
    }
   ],
   "source": [
    "scores_nb = cross_validate(naive_bayes_classifier, x_test, y_test, cv=5, scoring = ['accuracy', 'precision', 'recall', 'f1'])\n",
    "\n",
    "results[4] = {\n",
    "        'Model': 'Naive Bayes',\n",
    "        'Accuracy': scores_nb['test_accuracy'].mean(),\n",
    "        'Precision': scores_nb['test_precision'].mean(),\n",
    "        'Recall': scores_nb['test_recall'].mean(),\n",
    "        'F1 Score': scores_nb['test_f1'].mean()\n",
    "    }\n",
    "\n",
    "#print(results)"
   ]
  },
  {
   "cell_type": "code",
   "execution_count": 67,
   "id": "aa2305de",
   "metadata": {},
   "outputs": [
    {
     "name": "stderr",
     "output_type": "stream",
     "text": [
      "C:\\Users\\karth\\anaconda3\\Lib\\site-packages\\sklearn\\neighbors\\_classification.py:228: DataConversionWarning: A column-vector y was passed when a 1d array was expected. Please change the shape of y to (n_samples,), for example using ravel().\n",
      "  return self._fit(X, y)\n",
      "C:\\Users\\karth\\anaconda3\\Lib\\site-packages\\sklearn\\neighbors\\_classification.py:228: DataConversionWarning: A column-vector y was passed when a 1d array was expected. Please change the shape of y to (n_samples,), for example using ravel().\n",
      "  return self._fit(X, y)\n",
      "C:\\Users\\karth\\anaconda3\\Lib\\site-packages\\sklearn\\neighbors\\_classification.py:228: DataConversionWarning: A column-vector y was passed when a 1d array was expected. Please change the shape of y to (n_samples,), for example using ravel().\n",
      "  return self._fit(X, y)\n",
      "C:\\Users\\karth\\anaconda3\\Lib\\site-packages\\sklearn\\neighbors\\_classification.py:228: DataConversionWarning: A column-vector y was passed when a 1d array was expected. Please change the shape of y to (n_samples,), for example using ravel().\n",
      "  return self._fit(X, y)\n",
      "C:\\Users\\karth\\anaconda3\\Lib\\site-packages\\sklearn\\neighbors\\_classification.py:228: DataConversionWarning: A column-vector y was passed when a 1d array was expected. Please change the shape of y to (n_samples,), for example using ravel().\n",
      "  return self._fit(X, y)\n"
     ]
    }
   ],
   "source": [
    "scores_knn = cross_validate(knn_classifier, x_test, y_test, cv = 5, scoring = ['accuracy', 'precision', 'recall', 'f1'])\n",
    "\n",
    "results[5] = {\n",
    "        'Model': 'KNN',\n",
    "        'Accuracy': scores_knn['test_accuracy'].mean(),\n",
    "        'Precision': scores_knn['test_precision'].mean(),\n",
    "        'Recall': scores_knn['test_recall'].mean(),\n",
    "        'F1 Score': scores_knn['test_f1'].mean()\n",
    "    }\n",
    "\n",
    "#print(results)"
   ]
  },
  {
   "cell_type": "code",
   "execution_count": 72,
   "id": "a10c6857",
   "metadata": {},
   "outputs": [],
   "source": [
    "import pandas as pd\n",
    "import seaborn as sns"
   ]
  },
  {
   "cell_type": "code",
   "execution_count": 73,
   "id": "0342b9e3",
   "metadata": {},
   "outputs": [],
   "source": [
    "results_df = pd.DataFrame(results)\n",
    "results_df = results_df.T"
   ]
  },
  {
   "cell_type": "code",
   "execution_count": 79,
   "id": "696d0daf",
   "metadata": {},
   "outputs": [
    {
     "data": {
      "image/png": "[encoded data removed]",
      "text/plain": [
       "<Figure size 800x600 with 2 Axes>"
      ]
     },
     "metadata": {},
     "output_type": "display_data"
    }
   ],
   "source": [
    "conf_matrix = confusion_matrix(y_test, y_rf)\n",
    "\n",
    "# Plot confusion matrix\n",
    "plt.figure(figsize=(8, 6))\n",
    "sns.heatmap(conf_matrix, annot=True, fmt=\"d\", cmap=\"Reds\")\n",
    "plt.xlabel('Predicted')\n",
    "plt.ylabel('Actual')\n",
    "plt.title('Confusion Matrix')\n",
    "plt.show()"
   ]
  },
  {
   "cell_type": "code",
   "execution_count": null,
   "id": "5486e48e",
   "metadata": {},
   "outputs": [],
   "source": []
  },
  {
   "cell_type": "code",
   "execution_count": null,
   "id": "476e5e0a",
   "metadata": {},
   "outputs": [],
   "source": []
  },
  {
   "cell_type": "code",
   "execution_count": null,
   "id": "7bbff351",
   "metadata": {},
   "outputs": [],
   "source": []
  },
  {
   "cell_type": "code",
   "execution_count": null,
   "id": "38300567",
   "metadata": {},
   "outputs": [],
   "source": []
  }
 ],
 "metadata": {
  "kernelspec": {
   "display_name": "Python 3 (ipykernel)",
   "language": "python",
   "name": "python3"
  },
  "language_info": {
   "codemirror_mode": {
    "name": "ipython",
    "version": 3
   },
   "file_extension": ".py",
   "mimetype": "text/x-python",
   "name": "python",
   "nbconvert_exporter": "python",
   "pygments_lexer": "ipython3",
   "version": "3.11.5"
  }
 },
 "nbformat": 4,
 "nbformat_minor": 5
}
